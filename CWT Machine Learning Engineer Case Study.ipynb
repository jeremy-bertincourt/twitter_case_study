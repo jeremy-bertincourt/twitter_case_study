{
 "cells": [
  {
   "cell_type": "markdown",
   "metadata": {},
   "source": [
    "# CWT Machine Learning Engineer Case Study"
   ]
  },
  {
   "cell_type": "markdown",
   "metadata": {},
   "source": [
    "### Question 1: What are the different languages present in the tweets? What are the popular n-grams observable in the tweets?"
   ]
  },
  {
   "cell_type": "markdown",
   "metadata": {},
   "source": [
    "The dataset is first loaded and tweets cleaned."
   ]
  },
  {
   "cell_type": "code",
   "execution_count": 17,
   "metadata": {},
   "outputs": [],
   "source": [
    "# import libraries\n",
    "\n",
    "import pandas as pd\n",
    "import numpy as np\n",
    "import csv\n",
    "import requests\n",
    "import json\n",
    "from datetime import date\n",
    "import datetime\n",
    "import time\n",
    "import random\n",
    "import pickle\n",
    "import spacy\n",
    "from nltk.corpus import stopwords\n",
    "import nltk\n",
    "import string\n",
    "from sklearn.preprocessing import MultiLabelBinarizer, LabelEncoder\n",
    "from sklearn.metrics import accuracy_score, make_scorer, roc_auc_score\n",
    "from nltk.stem import WordNetLemmatizer\n",
    "from sklearn.ensemble import RandomForestClassifier\n",
    "from sklearn.neural_network import MLPRegressor\n",
    "from sklearn.model_selection import train_test_split, cross_val_score, GridSearchCV\n",
    "from sklearn.utils import shuffle\n",
    "import ast\n",
    "from xgboost import XGBClassifier\n",
    "from sklearn.ensemble import GradientBoostingRegressor\n",
    "from sklearn.linear_model import LogisticRegression\n",
    "from sklearn.utils import resample\n",
    "from sklearn.linear_model import LinearRegression\n",
    "from sklearn.svm import LinearSVR, LinearSVC, SVC, SVR\n",
    "from sklearn.metrics import mean_squared_error\n",
    "from datetime import datetime\n",
    "import re\n",
    "import warnings\n",
    "import matplotlib.pyplot as plt\n",
    "from datetime import date\n",
    "from dateutil.relativedelta import relativedelta\n",
    "import unicodedata"
   ]
  },
  {
   "cell_type": "code",
   "execution_count": 2,
   "metadata": {},
   "outputs": [
    {
     "data": {
      "text/html": [
       "<div>\n",
       "<style scoped>\n",
       "    .dataframe tbody tr th:only-of-type {\n",
       "        vertical-align: middle;\n",
       "    }\n",
       "\n",
       "    .dataframe tbody tr th {\n",
       "        vertical-align: top;\n",
       "    }\n",
       "\n",
       "    .dataframe thead th {\n",
       "        text-align: right;\n",
       "    }\n",
       "</style>\n",
       "<table border=\"1\" class=\"dataframe\">\n",
       "  <thead>\n",
       "    <tr style=\"text-align: right;\">\n",
       "      <th></th>\n",
       "      <th>TweetPostedTime</th>\n",
       "      <th>TweetID</th>\n",
       "      <th>TweetBody</th>\n",
       "      <th>TweetRetweetFlag</th>\n",
       "      <th>TweetSource</th>\n",
       "      <th>TweetInReplyToStatusID</th>\n",
       "      <th>TweetInReplyToUserID</th>\n",
       "      <th>TweetInReplyToScreenName</th>\n",
       "      <th>TweetRetweetCount</th>\n",
       "      <th>TweetFavoritesCount</th>\n",
       "      <th>...</th>\n",
       "      <th>UserLocation</th>\n",
       "      <th>UserDescription</th>\n",
       "      <th>UserLink</th>\n",
       "      <th>UserExpandedLink</th>\n",
       "      <th>UserFollowersCount</th>\n",
       "      <th>UserFriendsCount</th>\n",
       "      <th>UserListedCount</th>\n",
       "      <th>UserSignupDate</th>\n",
       "      <th>UserTweetCount</th>\n",
       "      <th>tweet.place</th>\n",
       "    </tr>\n",
       "  </thead>\n",
       "  <tbody>\n",
       "    <tr>\n",
       "      <th>0</th>\n",
       "      <td>Tue Dec 20 10:57:00 +0000 2016</td>\n",
       "      <td>811163485052817408</td>\n",
       "      <td>RT @BeachyMaldives: Local interaction is a gre...</td>\n",
       "      <td>True</td>\n",
       "      <td>&lt;a href=\"http://twitter.com/download/iphone\" r...</td>\n",
       "      <td>NaN</td>\n",
       "      <td>NaN</td>\n",
       "      <td>NaN</td>\n",
       "      <td>1</td>\n",
       "      <td>0</td>\n",
       "      <td>...</td>\n",
       "      <td>United States</td>\n",
       "      <td>Pls donate 2 https://t.co/RvOUK9lAWI #YearEndG...</td>\n",
       "      <td>https://t.co/jghZVBsiQF</td>\n",
       "      <td>http://cjqenterprises.com</td>\n",
       "      <td>6334</td>\n",
       "      <td>6144</td>\n",
       "      <td>1917</td>\n",
       "      <td>Sun Jun 14 22:36:15 +0000 2015</td>\n",
       "      <td>33556</td>\n",
       "      <td>NaN</td>\n",
       "    </tr>\n",
       "    <tr>\n",
       "      <th>1</th>\n",
       "      <td>Tue Dec 20 10:56:59 +0000 2016</td>\n",
       "      <td>811163483463122944</td>\n",
       "      <td>RT @TechTerraEd: Need #giftideas for your kid(...</td>\n",
       "      <td>True</td>\n",
       "      <td>&lt;a href=\"http://twitter.com/download/iphone\" r...</td>\n",
       "      <td>NaN</td>\n",
       "      <td>NaN</td>\n",
       "      <td>NaN</td>\n",
       "      <td>1</td>\n",
       "      <td>0</td>\n",
       "      <td>...</td>\n",
       "      <td>durham  nc</td>\n",
       "      <td>Educator of students with special needs, Mothe...</td>\n",
       "      <td>NaN</td>\n",
       "      <td>NaN</td>\n",
       "      <td>154</td>\n",
       "      <td>371</td>\n",
       "      <td>180</td>\n",
       "      <td>Sat Jan 02 13:36:23 +0000 2010</td>\n",
       "      <td>3201</td>\n",
       "      <td>NaN</td>\n",
       "    </tr>\n",
       "    <tr>\n",
       "      <th>2</th>\n",
       "      <td>Tue Dec 20 10:56:55 +0000 2016</td>\n",
       "      <td>811163466387988480</td>\n",
       "      <td>Seven Questions Before Choosing a Cruise Line ...</td>\n",
       "      <td>False</td>\n",
       "      <td>&lt;a href=\"http://www.google.com/\" rel=\"nofollow...</td>\n",
       "      <td>NaN</td>\n",
       "      <td>NaN</td>\n",
       "      <td>NaN</td>\n",
       "      <td>0</td>\n",
       "      <td>0</td>\n",
       "      <td>...</td>\n",
       "      <td>Canada</td>\n",
       "      <td>Thrifty Mom Media social media consulting and ...</td>\n",
       "      <td>https://t.co/cEhGzaQJp6</td>\n",
       "      <td>http://www.thriftymommastips.com/</td>\n",
       "      <td>23433</td>\n",
       "      <td>24762</td>\n",
       "      <td>961</td>\n",
       "      <td>Tue May 26 21:26:09 +0000 2009</td>\n",
       "      <td>147958</td>\n",
       "      <td>NaN</td>\n",
       "    </tr>\n",
       "    <tr>\n",
       "      <th>3</th>\n",
       "      <td>Tue Dec 20 10:56:55 +0000 2016</td>\n",
       "      <td>811163465125679104</td>\n",
       "      <td>RT @CMGsportsclub: Yoga do Brasil, un havre de...</td>\n",
       "      <td>True</td>\n",
       "      <td>&lt;a href=\"https://roundteam.co\" rel=\"nofollow\"&gt;...</td>\n",
       "      <td>NaN</td>\n",
       "      <td>NaN</td>\n",
       "      <td>NaN</td>\n",
       "      <td>1</td>\n",
       "      <td>0</td>\n",
       "      <td>...</td>\n",
       "      <td>Cypress, Texas, USA</td>\n",
       "      <td>Adventure travel, yoga, paleo, Crossfit, runni...</td>\n",
       "      <td>https://t.co/3IHwXkgAkA</td>\n",
       "      <td>https://primalsanctuary.com</td>\n",
       "      <td>11136</td>\n",
       "      <td>10081</td>\n",
       "      <td>978</td>\n",
       "      <td>Sat Sep 12 20:29:18 +0000 2015</td>\n",
       "      <td>28988</td>\n",
       "      <td>NaN</td>\n",
       "    </tr>\n",
       "    <tr>\n",
       "      <th>4</th>\n",
       "      <td>Tue Dec 20 10:56:53 +0000 2016</td>\n",
       "      <td>811163457508642817</td>\n",
       "      <td>RT @StylishRentals: Love this! \"Palm Springs M...</td>\n",
       "      <td>True</td>\n",
       "      <td>&lt;a href=\"http://twitter.com\" rel=\"nofollow\"&gt;Tw...</td>\n",
       "      <td>NaN</td>\n",
       "      <td>NaN</td>\n",
       "      <td>NaN</td>\n",
       "      <td>3065</td>\n",
       "      <td>0</td>\n",
       "      <td>...</td>\n",
       "      <td>Providence</td>\n",
       "      <td>I really have got giant ambitions. I start com...</td>\n",
       "      <td>NaN</td>\n",
       "      <td>NaN</td>\n",
       "      <td>55</td>\n",
       "      <td>21</td>\n",
       "      <td>31</td>\n",
       "      <td>Wed Sep 07 16:22:15 +0000 2016</td>\n",
       "      <td>19581</td>\n",
       "      <td>NaN</td>\n",
       "    </tr>\n",
       "    <tr>\n",
       "      <th>...</th>\n",
       "      <td>...</td>\n",
       "      <td>...</td>\n",
       "      <td>...</td>\n",
       "      <td>...</td>\n",
       "      <td>...</td>\n",
       "      <td>...</td>\n",
       "      <td>...</td>\n",
       "      <td>...</td>\n",
       "      <td>...</td>\n",
       "      <td>...</td>\n",
       "      <td>...</td>\n",
       "      <td>...</td>\n",
       "      <td>...</td>\n",
       "      <td>...</td>\n",
       "      <td>...</td>\n",
       "      <td>...</td>\n",
       "      <td>...</td>\n",
       "      <td>...</td>\n",
       "      <td>...</td>\n",
       "      <td>...</td>\n",
       "      <td>...</td>\n",
       "    </tr>\n",
       "    <tr>\n",
       "      <th>42363</th>\n",
       "      <td>Tue Dec 20 00:25:13 +0000 2016</td>\n",
       "      <td>811004491378073600</td>\n",
       "      <td>#BusinessInsider Your Money #Travel The Bigges...</td>\n",
       "      <td>False</td>\n",
       "      <td>&lt;a href=\"http://www.hootsuite.com\" rel=\"nofoll...</td>\n",
       "      <td>NaN</td>\n",
       "      <td>NaN</td>\n",
       "      <td>NaN</td>\n",
       "      <td>0</td>\n",
       "      <td>0</td>\n",
       "      <td>...</td>\n",
       "      <td>ÜT: 43.484417,-79.720563</td>\n",
       "      <td>- Owner of - QB Sports and The Judge &amp; Jury - ...</td>\n",
       "      <td>http://t.co/aUs1RvWTzE</td>\n",
       "      <td>http://www.bostonmanor.ca/</td>\n",
       "      <td>537</td>\n",
       "      <td>170</td>\n",
       "      <td>90</td>\n",
       "      <td>Mon Jan 11 00:36:46 +0000 2010</td>\n",
       "      <td>22170</td>\n",
       "      <td>NaN</td>\n",
       "    </tr>\n",
       "    <tr>\n",
       "      <th>42364</th>\n",
       "      <td>Tue Dec 20 00:25:12 +0000 2016</td>\n",
       "      <td>811004490300223492</td>\n",
       "      <td>.@jessicaparsons @brokegirlsdiary #rockstar #D...</td>\n",
       "      <td>False</td>\n",
       "      <td>&lt;a href=\"http://www.facebook.com/twitter\" rel=...</td>\n",
       "      <td>NaN</td>\n",
       "      <td>NaN</td>\n",
       "      <td>NaN</td>\n",
       "      <td>0</td>\n",
       "      <td>0</td>\n",
       "      <td>...</td>\n",
       "      <td>Los Angeles</td>\n",
       "      <td>Talent | Literary | Production</td>\n",
       "      <td>https://t.co/6g3HhXQBkh</td>\n",
       "      <td>https://pro-labs.imdb.com/company/co0499796/</td>\n",
       "      <td>2635</td>\n",
       "      <td>1870</td>\n",
       "      <td>321</td>\n",
       "      <td>Sat Sep 13 19:18:55 +0000 2014</td>\n",
       "      <td>15266</td>\n",
       "      <td>NaN</td>\n",
       "    </tr>\n",
       "    <tr>\n",
       "      <th>42365</th>\n",
       "      <td>Tue Dec 20 00:25:12 +0000 2016</td>\n",
       "      <td>811004489813495808</td>\n",
       "      <td>RT @StylishRentals: Love this! \"Dragonfly Dese...</td>\n",
       "      <td>True</td>\n",
       "      <td>&lt;a href=\"http://twitter.com\" rel=\"nofollow\"&gt;Tw...</td>\n",
       "      <td>NaN</td>\n",
       "      <td>NaN</td>\n",
       "      <td>NaN</td>\n",
       "      <td>3043</td>\n",
       "      <td>0</td>\n",
       "      <td>...</td>\n",
       "      <td>NaN</td>\n",
       "      <td>udemy instructor, author, marketeer, into tech...</td>\n",
       "      <td>NaN</td>\n",
       "      <td>NaN</td>\n",
       "      <td>91</td>\n",
       "      <td>54</td>\n",
       "      <td>83</td>\n",
       "      <td>Thu Sep 01 23:19:19 +0000 2016</td>\n",
       "      <td>23419</td>\n",
       "      <td>NaN</td>\n",
       "    </tr>\n",
       "    <tr>\n",
       "      <th>42366</th>\n",
       "      <td>Tue Dec 20 00:25:12 +0000 2016</td>\n",
       "      <td>811004488932737024</td>\n",
       "      <td>RT @StylishRentals: Love this! \"Dragonfly Dese...</td>\n",
       "      <td>True</td>\n",
       "      <td>&lt;a href=\"http://twitter.com\" rel=\"nofollow\"&gt;Tw...</td>\n",
       "      <td>NaN</td>\n",
       "      <td>NaN</td>\n",
       "      <td>NaN</td>\n",
       "      <td>3043</td>\n",
       "      <td>0</td>\n",
       "      <td>...</td>\n",
       "      <td>NaN</td>\n",
       "      <td>Keep track of your cryptocurrencies and genera...</td>\n",
       "      <td>NaN</td>\n",
       "      <td>NaN</td>\n",
       "      <td>68</td>\n",
       "      <td>50</td>\n",
       "      <td>63</td>\n",
       "      <td>Fri Sep 02 17:16:12 +0000 2016</td>\n",
       "      <td>20737</td>\n",
       "      <td>NaN</td>\n",
       "    </tr>\n",
       "    <tr>\n",
       "      <th>42367</th>\n",
       "      <td>Tue Dec 20 00:25:12 +0000 2016</td>\n",
       "      <td>811004487737360384</td>\n",
       "      <td>RT @StylishRentals: Love this! \"Dragonfly Dese...</td>\n",
       "      <td>True</td>\n",
       "      <td>&lt;a href=\"http://twitter.com\" rel=\"nofollow\"&gt;Tw...</td>\n",
       "      <td>NaN</td>\n",
       "      <td>NaN</td>\n",
       "      <td>NaN</td>\n",
       "      <td>3043</td>\n",
       "      <td>0</td>\n",
       "      <td>...</td>\n",
       "      <td>NaN</td>\n",
       "      <td>ETHEREUM Foundation, project  community/ecosys...</td>\n",
       "      <td>NaN</td>\n",
       "      <td>NaN</td>\n",
       "      <td>213</td>\n",
       "      <td>51</td>\n",
       "      <td>50</td>\n",
       "      <td>Fri Sep 02 16:52:21 +0000 2016</td>\n",
       "      <td>23982</td>\n",
       "      <td>NaN</td>\n",
       "    </tr>\n",
       "  </tbody>\n",
       "</table>\n",
       "<p>42368 rows × 29 columns</p>\n",
       "</div>"
      ],
      "text/plain": [
       "                      TweetPostedTime             TweetID  \\\n",
       "0      Tue Dec 20 10:57:00 +0000 2016  811163485052817408   \n",
       "1      Tue Dec 20 10:56:59 +0000 2016  811163483463122944   \n",
       "2      Tue Dec 20 10:56:55 +0000 2016  811163466387988480   \n",
       "3      Tue Dec 20 10:56:55 +0000 2016  811163465125679104   \n",
       "4      Tue Dec 20 10:56:53 +0000 2016  811163457508642817   \n",
       "...                               ...                 ...   \n",
       "42363  Tue Dec 20 00:25:13 +0000 2016  811004491378073600   \n",
       "42364  Tue Dec 20 00:25:12 +0000 2016  811004490300223492   \n",
       "42365  Tue Dec 20 00:25:12 +0000 2016  811004489813495808   \n",
       "42366  Tue Dec 20 00:25:12 +0000 2016  811004488932737024   \n",
       "42367  Tue Dec 20 00:25:12 +0000 2016  811004487737360384   \n",
       "\n",
       "                                               TweetBody  TweetRetweetFlag  \\\n",
       "0      RT @BeachyMaldives: Local interaction is a gre...              True   \n",
       "1      RT @TechTerraEd: Need #giftideas for your kid(...              True   \n",
       "2      Seven Questions Before Choosing a Cruise Line ...             False   \n",
       "3      RT @CMGsportsclub: Yoga do Brasil, un havre de...              True   \n",
       "4      RT @StylishRentals: Love this! \"Palm Springs M...              True   \n",
       "...                                                  ...               ...   \n",
       "42363  #BusinessInsider Your Money #Travel The Bigges...             False   \n",
       "42364  .@jessicaparsons @brokegirlsdiary #rockstar #D...             False   \n",
       "42365  RT @StylishRentals: Love this! \"Dragonfly Dese...              True   \n",
       "42366  RT @StylishRentals: Love this! \"Dragonfly Dese...              True   \n",
       "42367  RT @StylishRentals: Love this! \"Dragonfly Dese...              True   \n",
       "\n",
       "                                             TweetSource  \\\n",
       "0      <a href=\"http://twitter.com/download/iphone\" r...   \n",
       "1      <a href=\"http://twitter.com/download/iphone\" r...   \n",
       "2      <a href=\"http://www.google.com/\" rel=\"nofollow...   \n",
       "3      <a href=\"https://roundteam.co\" rel=\"nofollow\">...   \n",
       "4      <a href=\"http://twitter.com\" rel=\"nofollow\">Tw...   \n",
       "...                                                  ...   \n",
       "42363  <a href=\"http://www.hootsuite.com\" rel=\"nofoll...   \n",
       "42364  <a href=\"http://www.facebook.com/twitter\" rel=...   \n",
       "42365  <a href=\"http://twitter.com\" rel=\"nofollow\">Tw...   \n",
       "42366  <a href=\"http://twitter.com\" rel=\"nofollow\">Tw...   \n",
       "42367  <a href=\"http://twitter.com\" rel=\"nofollow\">Tw...   \n",
       "\n",
       "       TweetInReplyToStatusID  TweetInReplyToUserID TweetInReplyToScreenName  \\\n",
       "0                         NaN                   NaN                      NaN   \n",
       "1                         NaN                   NaN                      NaN   \n",
       "2                         NaN                   NaN                      NaN   \n",
       "3                         NaN                   NaN                      NaN   \n",
       "4                         NaN                   NaN                      NaN   \n",
       "...                       ...                   ...                      ...   \n",
       "42363                     NaN                   NaN                      NaN   \n",
       "42364                     NaN                   NaN                      NaN   \n",
       "42365                     NaN                   NaN                      NaN   \n",
       "42366                     NaN                   NaN                      NaN   \n",
       "42367                     NaN                   NaN                      NaN   \n",
       "\n",
       "       TweetRetweetCount  TweetFavoritesCount  ...              UserLocation  \\\n",
       "0                      1                    0  ...             United States   \n",
       "1                      1                    0  ...                durham  nc   \n",
       "2                      0                    0  ...                    Canada   \n",
       "3                      1                    0  ...       Cypress, Texas, USA   \n",
       "4                   3065                    0  ...                Providence   \n",
       "...                  ...                  ...  ...                       ...   \n",
       "42363                  0                    0  ...  ÜT: 43.484417,-79.720563   \n",
       "42364                  0                    0  ...               Los Angeles   \n",
       "42365               3043                    0  ...                       NaN   \n",
       "42366               3043                    0  ...                       NaN   \n",
       "42367               3043                    0  ...                       NaN   \n",
       "\n",
       "                                         UserDescription  \\\n",
       "0      Pls donate 2 https://t.co/RvOUK9lAWI #YearEndG...   \n",
       "1      Educator of students with special needs, Mothe...   \n",
       "2      Thrifty Mom Media social media consulting and ...   \n",
       "3      Adventure travel, yoga, paleo, Crossfit, runni...   \n",
       "4      I really have got giant ambitions. I start com...   \n",
       "...                                                  ...   \n",
       "42363  - Owner of - QB Sports and The Judge & Jury - ...   \n",
       "42364                     Talent | Literary | Production   \n",
       "42365  udemy instructor, author, marketeer, into tech...   \n",
       "42366  Keep track of your cryptocurrencies and genera...   \n",
       "42367  ETHEREUM Foundation, project  community/ecosys...   \n",
       "\n",
       "                      UserLink                              UserExpandedLink  \\\n",
       "0      https://t.co/jghZVBsiQF                     http://cjqenterprises.com   \n",
       "1                          NaN                                           NaN   \n",
       "2      https://t.co/cEhGzaQJp6             http://www.thriftymommastips.com/   \n",
       "3      https://t.co/3IHwXkgAkA                   https://primalsanctuary.com   \n",
       "4                          NaN                                           NaN   \n",
       "...                        ...                                           ...   \n",
       "42363   http://t.co/aUs1RvWTzE                    http://www.bostonmanor.ca/   \n",
       "42364  https://t.co/6g3HhXQBkh  https://pro-labs.imdb.com/company/co0499796/   \n",
       "42365                      NaN                                           NaN   \n",
       "42366                      NaN                                           NaN   \n",
       "42367                      NaN                                           NaN   \n",
       "\n",
       "      UserFollowersCount UserFriendsCount  UserListedCount  \\\n",
       "0                   6334             6144             1917   \n",
       "1                    154              371              180   \n",
       "2                  23433            24762              961   \n",
       "3                  11136            10081              978   \n",
       "4                     55               21               31   \n",
       "...                  ...              ...              ...   \n",
       "42363                537              170               90   \n",
       "42364               2635             1870              321   \n",
       "42365                 91               54               83   \n",
       "42366                 68               50               63   \n",
       "42367                213               51               50   \n",
       "\n",
       "                       UserSignupDate  UserTweetCount tweet.place  \n",
       "0      Sun Jun 14 22:36:15 +0000 2015           33556         NaN  \n",
       "1      Sat Jan 02 13:36:23 +0000 2010            3201         NaN  \n",
       "2      Tue May 26 21:26:09 +0000 2009          147958         NaN  \n",
       "3      Sat Sep 12 20:29:18 +0000 2015           28988         NaN  \n",
       "4      Wed Sep 07 16:22:15 +0000 2016           19581         NaN  \n",
       "...                               ...             ...         ...  \n",
       "42363  Mon Jan 11 00:36:46 +0000 2010           22170         NaN  \n",
       "42364  Sat Sep 13 19:18:55 +0000 2014           15266         NaN  \n",
       "42365  Thu Sep 01 23:19:19 +0000 2016           23419         NaN  \n",
       "42366  Fri Sep 02 17:16:12 +0000 2016           20737         NaN  \n",
       "42367  Fri Sep 02 16:52:21 +0000 2016           23982         NaN  \n",
       "\n",
       "[42368 rows x 29 columns]"
      ]
     },
     "execution_count": 2,
     "metadata": {},
     "output_type": "execute_result"
    }
   ],
   "source": [
    "# load dataset\n",
    "tweet_df = pd.read_csv(\"twitter_dataset.csv\")\n",
    "tweet_df"
   ]
  },
  {
   "cell_type": "code",
   "execution_count": 3,
   "metadata": {},
   "outputs": [
    {
     "data": {
      "text/plain": [
       "'Local interaction is a great way to gain insight into the Maldivian way of life.'"
      ]
     },
     "execution_count": 3,
     "metadata": {},
     "output_type": "execute_result"
    }
   ],
   "source": [
    "# Remove all @, RTs, links and hashtags within tweets\n",
    "tweet_df[\"TweetBody\"] = tweet_df[\"TweetBody\"].apply(lambda x: \" \".join([keyword for keyword in x.split(\" \") if \"@\" not in keyword and \"#\" not in keyword and \"RT\" not in keyword and \"https\" not in keyword]))\n",
    "tweet_df[\"TweetBody\"].iloc[0]"
   ]
  },
  {
   "cell_type": "code",
   "execution_count": 4,
   "metadata": {},
   "outputs": [],
   "source": [
    "# Detect language for each sentence\n",
    "import cld3\n",
    "tweet_df[\"tweet_lang\"] = tweet_df[\"TweetBody\"].apply(lambda x: cld3.get_language(x).language if len(x.strip())>0 and any(letter.isalpha() for letter in x) and float(cld3.get_language(x).probability) >= 0.95 else \"\")"
   ]
  },
  {
   "cell_type": "code",
   "execution_count": 5,
   "metadata": {},
   "outputs": [
    {
     "data": {
      "text/plain": [
       "array(['en', '', 'fr', 'es', 'it', 'lb', 'el-Latn', 'sn', 'nl', 'pt',\n",
       "       'sr', 'ms', 'fy', 'ja', 'tr', 'bg', 'pl', 'zh', 'ca', 'ru', 'jv',\n",
       "       'no', 'xh', 'id', 'co', 'hi', 'sl', 'fil', 'af', 'de', 'mg', 'ig',\n",
       "       'sv', 'la', 'th', 'te', 'el', 'hi-Latn', 'ht', 'mt', 'gl', 'et',\n",
       "       'ko', 'so', 'haw', 'cs', 'hy', 'yo', 'da', 'vi', 'sk', 'ro', 'eu',\n",
       "       'ky', 'sm', 'sw', 'zh-Latn', 'mi', 'fi', 'ta', 'ml', 'gd', 'ar',\n",
       "       'uz', 'ceb', 'ga', 'st', 'ny', 'lt', 'zu', 'cy', 'ru-Latn', 'az',\n",
       "       'eo', 'fa', 'lv', 'su', 'kk', 'ja-Latn', 'uk', 'hu', 'bg-Latn',\n",
       "       'iw', 'ha', 'tg'], dtype=object)"
      ]
     },
     "execution_count": 5,
     "metadata": {},
     "output_type": "execute_result"
    }
   ],
   "source": [
    "tweet_df[\"tweet_lang\"].unique()"
   ]
  },
  {
   "cell_type": "code",
   "execution_count": 6,
   "metadata": {},
   "outputs": [
    {
     "name": "stdout",
     "output_type": "stream",
     "text": [
      "['English' '' 'French' 'Spanish' 'Italian' 'Luxembourgish' 'Shona' 'Dutch'\n",
      " 'Portuguese' 'Serbian' 'Malay (macrolanguage)' 'Western Frisian'\n",
      " 'Japanese' 'Turkish' 'Bulgarian' 'Polish' 'Chinese' 'Catalan' 'Russian'\n",
      " 'Javanese' 'Norwegian' 'Xhosa' 'Indonesian' 'Corsican' 'Hindi'\n",
      " 'Slovenian' 'Afrikaans' 'German' 'Malagasy' 'Igbo' 'Swedish' 'Latin'\n",
      " 'Thai' 'Telugu' 'Modern Greek (1453-)' 'Haitian' 'Maltese' 'Galician'\n",
      " 'Estonian' 'Korean' 'Somali' 'Czech' 'Armenian' 'Yoruba' 'Danish'\n",
      " 'Vietnamese' 'Slovak' 'Romanian' 'Basque' 'Kirghiz' 'Samoan'\n",
      " 'Swahili (macrolanguage)' 'Maori' 'Finnish' 'Tamil' 'Malayalam'\n",
      " 'Scottish Gaelic' 'Arabic' 'Uzbek' 'Irish' 'Southern Sotho' 'Nyanja'\n",
      " 'Lithuanian' 'Zulu' 'Welsh' 'Azerbaijani' 'Esperanto' 'Persian' 'Latvian'\n",
      " 'Sundanese' 'Kazakh' 'Ukrainian' 'Hungarian' 'Hausa' 'Tajik']\n"
     ]
    }
   ],
   "source": [
    "import pycountry\n",
    "# convert iso639 codes into full language names\n",
    "tweet_df[\"tweet_lang\"] = tweet_df[\"tweet_lang\"].apply(lambda x: pycountry.languages.get(alpha_2=x).name if x!='' and pycountry.languages.get(alpha_2=x) is not None else '')\n",
    "print(tweet_df[\"tweet_lang\"].unique())"
   ]
  },
  {
   "cell_type": "code",
   "execution_count": 7,
   "metadata": {
    "scrolled": false
   },
   "outputs": [
    {
     "data": {
      "text/plain": [
       "                         22565\n",
       "English                  18375\n",
       "Spanish                    287\n",
       "French                      97\n",
       "Italian                     79\n",
       "Japanese                    72\n",
       "German                      61\n",
       "Luxembourgish               57\n",
       "Western Frisian             53\n",
       "Indonesian                  48\n",
       "Portuguese                  46\n",
       "Corsican                    35\n",
       "Dutch                       34\n",
       "Javanese                    34\n",
       "Russian                     31\n",
       "Norwegian                   29\n",
       "Afrikaans                   27\n",
       "Serbian                     26\n",
       "Slovak                      25\n",
       "Latin                       25\n",
       "Catalan                     24\n",
       "Igbo                        22\n",
       "Thai                        21\n",
       "Danish                      21\n",
       "Galician                    21\n",
       "Chinese                     21\n",
       "Malay (macrolanguage)       14\n",
       "Polish                      13\n",
       "Korean                      12\n",
       "Estonian                    11\n",
       "Nyanja                      11\n",
       "Malagasy                    11\n",
       "Welsh                       10\n",
       "Vietnamese                   8\n",
       "Somali                       8\n",
       "Slovenian                    8\n",
       "Bulgarian                    8\n",
       "Haitian                      7\n",
       "Shona                        7\n",
       "Scottish Gaelic              6\n",
       "Modern Greek (1453-)         6\n",
       "Latvian                      6\n",
       "Esperanto                    6\n",
       "Turkish                      6\n",
       "Swedish                      6\n",
       "Maltese                      5\n",
       "Zulu                         5\n",
       "Southern Sotho               5\n",
       "Xhosa                        4\n",
       "Irish                        4\n",
       "Name: tweet_lang, dtype: int64"
      ]
     },
     "execution_count": 7,
     "metadata": {},
     "output_type": "execute_result"
    }
   ],
   "source": [
    "tweet_df[\"tweet_lang\"].value_counts()[:50]"
   ]
  },
  {
   "cell_type": "markdown",
   "metadata": {},
   "source": [
    "The above list contains all the different languages present in the tweets. Only tweets detected with a very high confidence (higher than 0.95) were labeled. English seems to be the most recurrent language by far. Let's focus on the english language and remove english stopwords before listing most popular n-grams."
   ]
  },
  {
   "cell_type": "code",
   "execution_count": 8,
   "metadata": {},
   "outputs": [
    {
     "data": {
      "image/png": "[encoded data removed]",
      "text/plain": [
       "<Figure size 864x576 with 1 Axes>"
      ]
     },
     "metadata": {
      "needs_background": "light"
     },
     "output_type": "display_data"
    },
    {
     "data": {
      "image/png": "[encoded data removed]",
      "text/plain": [
       "<Figure size 864x576 with 1 Axes>"
      ]
     },
     "metadata": {
      "needs_background": "light"
     },
     "output_type": "display_data"
    },
    {
     "data": {
      "image/png": "[encoded data removed]",
      "text/plain": [
       "<Figure size 864x576 with 1 Axes>"
      ]
     },
     "metadata": {
      "needs_background": "light"
     },
     "output_type": "display_data"
    }
   ],
   "source": [
    "def basic_clean(text):\n",
    "  \"\"\"\n",
    "  A simple function to clean up the data. All words that\n",
    "  are not designated as a stop word are then lemmatized after\n",
    "  encoding and basic regex parsing is performed.\n",
    "  \"\"\"\n",
    "  wnl = nltk.stem.WordNetLemmatizer()\n",
    "  stopwords = nltk.corpus.stopwords.words('english') + ['amp']\n",
    "  text = (unicodedata.normalize('NFKD', text)\n",
    "    .encode('ascii', 'ignore')\n",
    "    .decode('utf-8', 'ignore')\n",
    "    .lower())\n",
    "  words = re.sub(r'[^\\w\\s]', '', text).split()\n",
    "  return [wnl.lemmatize(word) for word in words if word not in stopwords]\n",
    "\n",
    "# Clean tweets more thorouly with english stopwords removed, lemmatization and text lowercased\n",
    "words = basic_clean(''.join(str(tweet_df[\"TweetBody\"].tolist())))\n",
    "\n",
    "#compute most populat n-grams\n",
    "unigrams_series = (pd.Series(nltk.ngrams(words, 1)).value_counts())[:20]\n",
    "bigrams_series = (pd.Series(nltk.ngrams(words, 2)).value_counts())[:20]\n",
    "trigrams_series = (pd.Series(nltk.ngrams(words, 3)).value_counts())[:20]\n",
    "\n",
    "# Visualize 20 most popular n-grams\n",
    "unigrams_series.sort_values().plot.barh(color='blue', width=.9, figsize=(12, 8))\n",
    "plt.title('20 Most Frequently Occuring Unigrams')\n",
    "plt.ylabel('Unigram')\n",
    "plt.xlabel('# of Occurances')\n",
    "plt.show()\n",
    "\n",
    "bigrams_series.sort_values().plot.barh(color='blue', width=.9, figsize=(12, 8))\n",
    "plt.title('20 Most Frequently Occuring Bigrams')\n",
    "plt.ylabel('Bigram')\n",
    "plt.xlabel('# of Occurances')\n",
    "plt.show()\n",
    "\n",
    "trigrams_series.sort_values().plot.barh(color='blue', width=.9, figsize=(12, 8))\n",
    "plt.title('20 Most Frequently Occuring Trigrams')\n",
    "plt.ylabel('Trigram')\n",
    "plt.xlabel('# of Occurances')\n",
    "plt.show()"
   ]
  },
  {
   "cell_type": "markdown",
   "metadata": {},
   "source": [
    "The most common keywords used in tweets seem to be about travel, photography, vacation and rentals which makes sense. A region seems particularly targeted: California. "
   ]
  },
  {
   "cell_type": "markdown",
   "metadata": {},
   "source": [
    "### Question 2: Unsupervised Learning Modeling Task: Based on the twitter texts (TweetBody column) alone, what are the popular clusters/topics of text this group of users have been tweeting about? What are the assumptions made by your solution?"
   ]
  },
  {
   "cell_type": "markdown",
   "metadata": {},
   "source": [
    "The first step is to clean the text of each tweet again. Keywords can then be vectorized with a CountVectorizer or TF-IDF. Then K-means can be used as a clustering algorithm. It assumes data points are distributed in a spherical manner. The number of clusters is chosen based on the inertia for each cluster number. PCA is then applied in order to reduce the dimensionality of the dataset to 2 components so that clusters can be visualized."
   ]
  },
  {
   "cell_type": "code",
   "execution_count": 11,
   "metadata": {},
   "outputs": [
    {
     "data": {
      "image/png": "[encoded data removed]",
      "text/plain": [
       "<Figure size 432x288 with 1 Axes>"
      ]
     },
     "metadata": {
      "needs_background": "light"
     },
     "output_type": "display_data"
    }
   ],
   "source": [
    "import pandas as pd\n",
    "import re\n",
    "from sklearn.decomposition import PCA\n",
    "from sklearn.feature_extraction.text import CountVectorizer\n",
    "from sklearn.feature_extraction.text import TfidfVectorizer\n",
    "from sklearn.cluster import KMeans\n",
    "import matplotlib.pyplot as plt\n",
    "\n",
    "def preprocess_text(text: str, remove_stopwords: bool) -> str:\n",
    "    \"\"\"This function cleans the input text by\n",
    "    - removing special chars\n",
    "    - removing numbers\n",
    "    - removing stopwords\n",
    "    - transforming in lower case\n",
    "    - removing excessive whitespaces\n",
    "    \"\"\"\n",
    "    wnl = nltk.stem.WordNetLemmatizer()\n",
    "    # remove numbers and special chars\n",
    "    text = re.sub(\"[^A-Za-z]+\", \" \", text)\n",
    "    # remove stopwords\n",
    "    if remove_stopwords:\n",
    "        # 1. creates tokens\n",
    "        tokens = nltk.word_tokenize(text)\n",
    "        # 2. checks if token is a stopword and removes it\n",
    "        stopwords = nltk.corpus.stopwords.words('english') + ['amp']\n",
    "        tokens = [wnl.lemmatize(w) for w in tokens if not w.lower() in stopwords]\n",
    "        # 3. joins all tokens again\n",
    "        text = \" \".join(tokens)\n",
    "    # returns cleaned text\n",
    "    text = text.lower().strip()\n",
    "    return text\n",
    "\n",
    "# Preprocess each tweet but keeping them separate this time\n",
    "tweet_df[\"TweetBody\"] = tweet_df[\"TweetBody\"].apply(lambda x: preprocess_text(x, remove_stopwords=True))\n",
    "\n",
    "# initialize the vectorizer\n",
    "vectorizer = TfidfVectorizer(sublinear_tf=True, min_df=5, max_df=0.95)\n",
    "X = vectorizer.fit_transform(tweet_df[\"TweetBody\"])\n",
    "\n",
    "ks = range(1, 10)\n",
    "inertias = []\n",
    "for k in ks:\n",
    "    # Create a KMeans instance with k clusters: model\n",
    "    model = KMeans(n_clusters=k)\n",
    "    \n",
    "    # Fit model to samples\n",
    "    model.fit(X)\n",
    "    \n",
    "    # Append the inertia to the list of inertias\n",
    "    inertias.append(model.inertia_)\n",
    "    \n",
    "plt.plot(ks, inertias, '-o', color='black')\n",
    "plt.xlabel('number of clusters, k')\n",
    "plt.ylabel('inertia')\n",
    "plt.xticks(ks)\n",
    "plt.show()"
   ]
  },
  {
   "cell_type": "markdown",
   "metadata": {},
   "source": [
    "the slope of the curve starts decreasing after the 5th cluster, which is why the number of clusters was set to 5."
   ]
  },
  {
   "cell_type": "code",
   "execution_count": 12,
   "metadata": {
    "scrolled": false
   },
   "outputs": [
    {
     "name": "stdout",
     "output_type": "stream",
     "text": [
      "\n",
      "Cluster 0\n",
      "tip,christmas,top,amazing,world,hotel,get,season,book,holiday,day,new,gt,via,best,daily,please,thanks,latest,travel\n",
      "\n",
      "Cluster 1\n",
      "flavor,foodborne,foggy,florida,rent,step,condominium,cozy,nice,found,via,vacation,usa,rental,ca,mission,condo,beach,san,diego\n",
      "\n",
      "Cluster 2\n",
      "fluff,fly,flying,force,fm,fodor,foggy,folk,follow,following,food,foodborne,foodie,fool,foot,fodhdhoo,zzzz,mm,city,nikon\n",
      "\n",
      "Cluster 3\n",
      "wagon,crafted,tahoe,celeste,wing,neck,pocasset,room,guest,breakfast,bed,owl,hightown,spring,palm,chalet,lighthouse,house,love,rent\n",
      "\n",
      "Cluster 4\n",
      "fodor,flower,foggy,follow,following,florence,food,foodborne,foodie,flight,fool,foot,folk,wonderful,travel,beautiful,photography,helena,reet,ennet\n"
     ]
    }
   ],
   "source": [
    "# initialize kmeans with 5 centroids\n",
    "kmeans = KMeans(n_clusters=5, random_state=42)\n",
    "# fit the model\n",
    "kmeans.fit(X)\n",
    "# store cluster labels in a variable\n",
    "clusters = kmeans.labels_\n",
    "\n",
    "\n",
    "# initialize PCA with 2 components\n",
    "pca = PCA(n_components=2, random_state=42)\n",
    "# pass our X to the pca and store the reduced vectors into pca_vecs\n",
    "pca_vecs = pca.fit_transform(X.toarray())\n",
    "# save our two dimensions into x0 and x1\n",
    "x0 = pca_vecs[:, 0]\n",
    "x1 = pca_vecs[:, 1]\n",
    "\n",
    "tweet_df['cluster'] = clusters\n",
    "tweet_df['x0'] = x0\n",
    "tweet_df['x1'] = x1\n",
    "\n",
    "def get_top_keywords(n_terms):\n",
    "    \"\"\"This function returns the keywords for each centroid of the KMeans\"\"\"\n",
    "    df = pd.DataFrame(X.todense()).groupby(clusters).mean() # groups the TF-IDF vector by cluster\n",
    "    terms = vectorizer.get_feature_names() # access tf-idf terms\n",
    "    for i,r in df.iterrows():\n",
    "        print('\\nCluster {}'.format(i))\n",
    "        print(','.join([terms[t] for t in np.argsort(r)[-n_terms:]])) # for each row of the dataframe, find the n terms that have the highest tf idf score\n",
    "            \n",
    "get_top_keywords(20)"
   ]
  },
  {
   "cell_type": "markdown",
   "metadata": {},
   "source": [
    "5 main clusters can be identified: Words starting with f, food/photography, holiday on the beach in california, rentals in Palm spring, and questions/tips about travelling."
   ]
  },
  {
   "cell_type": "code",
   "execution_count": 13,
   "metadata": {},
   "outputs": [
    {
     "data": {
      "image/png": "[encoded data removed]",
      "text/plain": [
       "<Figure size 864x504 with 1 Axes>"
      ]
     },
     "metadata": {
      "needs_background": "light"
     },
     "output_type": "display_data"
    }
   ],
   "source": [
    "import seaborn as sns\n",
    "\n",
    "# map clusters to appropriate labels \n",
    "cluster_map = {2: \"Words starting with f\", 1: \"Holiday on the beach in California\", 0:\"Questions about travelling\",3:\"Rentals in palm spring\",4:\"Food/Photography\"}\n",
    "# apply mapping\n",
    "tweet_df['cluster'] = tweet_df['cluster'].map(cluster_map)\n",
    "\n",
    "# set image size\n",
    "plt.figure(figsize=(12, 7))\n",
    "# set a title\n",
    "plt.title(\"TF-IDF + KMeans 20newsgroup clustering\", fontdict={\"fontsize\": 18})\n",
    "# set axes names\n",
    "plt.xlabel(\"X0\", fontdict={\"fontsize\": 16})\n",
    "plt.ylabel(\"X1\", fontdict={\"fontsize\": 16})\n",
    "# create scatter plot with seaborn, where hue is the class used to group the data\n",
    "sns.scatterplot(data=tweet_df, x='x0', y='x1', hue='cluster', palette=\"viridis\")\n",
    "plt.show()"
   ]
  },
  {
   "cell_type": "markdown",
   "metadata": {},
   "source": [
    "The k-means algorithm seems to pick up on outliers as it assumes the data is spherical and evenly distributed, which is not the case. DB-scan was tested in order to have a clearer separation within the main group but it did not work well either."
   ]
  },
  {
   "cell_type": "markdown",
   "metadata": {},
   "source": [
    "### Question 3: From the model built in Question 2, to what extent could you improve the model by incorporating additional information provided in the dataset? What the implications of doing so?"
   ]
  },
  {
   "cell_type": "markdown",
   "metadata": {},
   "source": [
    "The current model only takes into account bare text as an input and is giving an equal weight to all of them. The user's country could be used to target specific populations as British people tweeting about going to San Diego does not mean the same as Californians posting the same tweet.\n",
    "Also, the number of retweets could be used to order to assess how many people aggree with each tweet, which would change the weight given to each sentence.\n",
    "Hashtags could also be included as they constitute strong keywords.\n",
    "This would mean adding more text to each tweet: country name + hashtags + keywords repeated n times based on the level of retweet.\n",
    "Duplicated tweets from the same user using its userID could be filtered out.\n",
    "Also, rows that are replies to another tweet could be filtered out in order to only keep original posts."
   ]
  },
  {
   "cell_type": "markdown",
   "metadata": {},
   "source": [
    "### Question 4: Build an API that can infer the topics/clusters given an input of a new tweet powered by your model trained in the Question 2 above."
   ]
  },
  {
   "cell_type": "code",
   "execution_count": 14,
   "metadata": {},
   "outputs": [
    {
     "name": "stdout",
     "output_type": "stream",
     "text": [
      "input tweet: At the beach in San Diego! #sunny #california \n",
      "infered tweet: Holiday on the beach in California\n",
      "\n",
      "input tweet: does anyone have any travel tips? #travel \n",
      "infered tweet: Questions about travelling\n",
      "\n",
      "input tweet: love this new rental in palm spring  #holiday \n",
      "infered tweet: Rentals in palm spring\n"
     ]
    }
   ],
   "source": [
    "# Preprocess each tweet but keeping them separate this time\n",
    "def infer_cluster(text):\n",
    "    text_s = pd.Series([text])\n",
    "    text_s = text_s.apply(lambda x: \" \".join([keyword for keyword in x.split(\" \") if \"@\" not in keyword and \"#\" not in keyword and \"RT\" not in keyword and \"https\" not in keyword]))\n",
    "    text_s = text_s.apply(lambda x: preprocess_text(x, remove_stopwords=True))\n",
    "\n",
    "    X_test = vectorizer.transform(text_s)\n",
    "    prediction = kmeans.predict(X_test)\n",
    "    cluster_name = cluster_map[prediction[0]]\n",
    "    return cluster_name\n",
    "\n",
    "test_tweet = \"At the beach in San Diego! #sunny #california\"\n",
    "print(\"input tweet:\", test_tweet, \"\\ninfered tweet:\", infer_cluster(test_tweet))\n",
    "\n",
    "test_tweet = \"does anyone have any travel tips? #travel\"\n",
    "print(\"\\ninput tweet:\", test_tweet, \"\\ninfered tweet:\", infer_cluster(test_tweet))\n",
    "\n",
    "test_tweet = \"love this new rental in palm spring  #holiday\"\n",
    "print(\"\\ninput tweet:\", test_tweet, \"\\ninfered tweet:\", infer_cluster(test_tweet))"
   ]
  },
  {
   "cell_type": "markdown",
   "metadata": {},
   "source": [
    "### Question 5: What are the actionable business insight that can be drawn from this dataset?"
   ]
  },
  {
   "cell_type": "markdown",
   "metadata": {},
   "source": [
    "This dataset shows that most users are looking for travel and rental tips. Adding personalized recommendations to the product would probably make it very appealing. \n",
    "A few datapoints show that some users are very excited about holidays on the beach and specifically in California. It might be good to include more rentals from this area within the product.\n",
    "Food and photography seem to stand out as well. If services are part of the product offering, they should definitly be included."
   ]
  },
  {
   "cell_type": "markdown",
   "metadata": {},
   "source": [
    "### Question 6: [Optional] Design and build a supervised learning model that can predict the number of tweet favourite (TweetFavoritesCount column)."
   ]
  },
  {
   "cell_type": "code",
   "execution_count": 15,
   "metadata": {},
   "outputs": [
    {
     "name": "stdout",
     "output_type": "stream",
     "text": [
      "34685    0\n",
      "39213    0\n",
      "40061    0\n",
      "13782    0\n",
      "17874    0\n",
      "17069    0\n",
      "15442    0\n",
      "40598    0\n",
      "34263    0\n",
      "38705    0\n",
      "Name: TweetFavoritesCount, dtype: int64\n",
      "10163    1.0\n",
      "10878    1.0\n",
      "6485     1.0\n",
      "10998    2.0\n",
      "10782    1.0\n",
      "25000    5.0\n",
      "31042    1.0\n",
      "35486    1.0\n",
      "24473    1.0\n",
      "40566    1.0\n",
      "Name: TweetFavoritesCount, dtype: float64\n",
      "Percentage of non zeros in target before upsample:  9.799754415792954 %\n",
      "Percentage of non zeros in target after upsample:  50.0 %\n",
      "       TweetRetweetCount  UserFollowersCount  UserFriendsCount  \\\n",
      "count       76396.000000        7.639600e+04      76396.000000   \n",
      "mean          602.500864        1.361002e+04       7529.047005   \n",
      "std          1196.003835        1.095463e+05      31159.902020   \n",
      "min             0.000000        0.000000e+00          0.000000   \n",
      "25%             0.000000        7.200000e+01         63.000000   \n",
      "50%             1.000000        7.830000e+02        846.000000   \n",
      "75%            50.000000        4.952000e+03       3207.250000   \n",
      "max          4056.000000        4.572706e+06     689302.000000   \n",
      "\n",
      "       UserListedCount  UserTweetCount  \n",
      "count     76396.000000    7.639600e+04  \n",
      "mean        441.305356    4.054174e+04  \n",
      "std        1125.827408    1.005246e+05  \n",
      "min           0.000000    1.000000e+00  \n",
      "25%          23.000000    2.597000e+03  \n",
      "50%          82.000000    1.604300e+04  \n",
      "75%         376.000000    3.347925e+04  \n",
      "max       26577.000000    2.064424e+06  \n",
      "---\n",
      "count    76396.000000\n",
      "mean         3.954252\n",
      "std         82.100061\n",
      "min          0.000000\n",
      "25%          0.000000\n",
      "50%          0.500000\n",
      "75%          1.000000\n",
      "max       2813.000000\n",
      "Name: TweetFavoritesCount, dtype: float64\n"
     ]
    }
   ],
   "source": [
    "# Create training/validation set separation\n",
    "tweet_df_val_zeros = tweet_df[tweet_df[\"TweetFavoritesCount\"]==0].sample(n=10, random_state=27) \n",
    "tweet_df = tweet_df[~tweet_df.isin(tweet_df_val_zeros)].dropna(subset=[\"TweetRetweetCount\",\"UserFollowersCount\",\"UserFriendsCount\",\"UserListedCount\",\"UserTweetCount\"])\n",
    "print(tweet_df_val_zeros[\"TweetFavoritesCount\"])\n",
    "\n",
    "tweet_df_val_non_zeros = tweet_df[tweet_df[\"TweetFavoritesCount\"]!=0].sample(n=10, random_state=27) \n",
    "tweet_df = tweet_df[~tweet_df.isin(tweet_df_val_non_zeros)].dropna(subset=[\"TweetRetweetCount\",\"UserFollowersCount\",\"UserFriendsCount\",\"UserListedCount\",\"UserTweetCount\"])\n",
    "print(tweet_df_val_non_zeros[\"TweetFavoritesCount\"])\n",
    "\n",
    "# Upsample minority class\n",
    "tweet_df_majority = tweet_df[tweet_df.TweetFavoritesCount==0]\n",
    "tweet_df_minority = tweet_df[tweet_df.TweetFavoritesCount!=0]\n",
    "\n",
    "print(\"Percentage of non zeros in target before upsample: \", len(tweet_df[tweet_df[\"TweetFavoritesCount\"]!=0])/len(tweet_df[\"TweetFavoritesCount\"])*100,\"%\")\n",
    "\n",
    "# Upsample minority class\n",
    "tweet_df_minority_upsampled = resample(tweet_df_minority, \n",
    "                                 replace=True,     # sample with replacement\n",
    "                                 n_samples=tweet_df_majority.shape[0],    # to match majority class\n",
    "                                 random_state=123) # reproducible results\n",
    " \n",
    "# Combine majority class with upsampled minority class\n",
    "tweet_df = pd.concat([tweet_df_majority, tweet_df_minority_upsampled])\n",
    "\n",
    "print(\"Percentage of non zeros in target after upsample: \", len(tweet_df[tweet_df[\"TweetFavoritesCount\"]!=0])/len(tweet_df[\"TweetFavoritesCount\"])*100,\"%\")\n",
    "\n",
    "X = tweet_df[[\"TweetRetweetCount\",\"UserFollowersCount\",\"UserFriendsCount\",\"UserListedCount\",\"UserTweetCount\"]]\n",
    "y = tweet_df[\"TweetFavoritesCount\"]\n",
    "\n",
    "print(X.describe())\n",
    "print(\"---\")\n",
    "print(y.describe())"
   ]
  },
  {
   "cell_type": "markdown",
   "metadata": {},
   "source": [
    "The dataset is separated into a training and validation set. As there is a large majority of zeros, 20 random samples are selected - 10 with a target at zero and 10 at non zero. Also, a such unbalanced dataset leads to a model predicting zero all the time and skews the training. This is why the non zero values were upsampled.\n",
    "There are no missing values in the dataset. There are users with a very high number of followers (4M), friends and tweet count, but it could still be possible."
   ]
  },
  {
   "cell_type": "code",
   "execution_count": 19,
   "metadata": {},
   "outputs": [
    {
     "name": "stdout",
     "output_type": "stream",
     "text": [
      "Dumb baseline mse 6740.33170727659\n",
      "LR scaled cross val score mse 6750.756202047809\n",
      "SVR cross val score mse 6734.249343173877\n",
      "MLP cross val score mse 82629.81352785048\n",
      "XGBR cross val score mse 179.9810705289283\n"
     ]
    }
   ],
   "source": [
    "import warnings\n",
    "warnings.filterwarnings(\"ignore\")\n",
    "\n",
    "# Try dumb baseline without ML\n",
    "print(\"Dumb baseline mse\",  mean_squared_error(y, [np.mean(y) for i in range(len(y))]))\n",
    "\n",
    "# Try different models\n",
    "classifier = LinearRegression()\n",
    "print(\"LR scaled cross val score mse\", np.abs(cross_val_score(classifier, X, y, cv=10, scoring='neg_mean_squared_error')).mean())\n",
    "classifier = SVR()\n",
    "print(\"SVR cross val score mse\", np.abs(cross_val_score(classifier, X, y, cv=10, scoring='neg_mean_squared_error')).mean())\n",
    "classifier = MLPRegressor(random_state=1, max_iter=1000)\n",
    "print(\"MLP cross val score mse\", np.abs(cross_val_score(classifier, X, y, cv=10, scoring='neg_mean_squared_error')).mean())\n",
    "classifier = GradientBoostingRegressor(random_state=27)\n",
    "print(\"XGBR cross val score mse\", np.abs(cross_val_score(classifier, X, y, cv=10, scoring='neg_mean_squared_error')).mean())"
   ]
  },
  {
   "cell_type": "markdown",
   "metadata": {},
   "source": [
    "The XgBoost model performs much better than other models and has a MSE which is much lower than the baseline without Machine Learning."
   ]
  },
  {
   "cell_type": "code",
   "execution_count": 20,
   "metadata": {},
   "outputs": [
    {
     "name": "stdout",
     "output_type": "stream",
     "text": [
      "MAE of baseline for zeros: 3.954251531493795\n",
      "MAPE of baseline for non zeros: 248.20287711398498 %\n",
      "MAE of model for zeros: 0.37740281551391863\n",
      "MAPE of model for non zeros: 66.498501883331 %\n"
     ]
    }
   ],
   "source": [
    "# Predict number of tweet favourite from the validation set\n",
    "classifier.fit(X,y)\n",
    "pred_zeros = classifier.predict(tweet_df_val_zeros[[\"TweetRetweetCount\",\"UserFollowersCount\",\"UserFriendsCount\",\"UserListedCount\",\"UserTweetCount\"]])\n",
    "pred_non_zeros = classifier.predict(tweet_df_val_non_zeros[[\"TweetRetweetCount\",\"UserFollowersCount\",\"UserFriendsCount\",\"UserListedCount\",\"UserTweetCount\"]])\n",
    "\n",
    "y_val_zeros = tweet_df_val_zeros[\"TweetFavoritesCount\"]\n",
    "y_val_non_zeros = tweet_df_val_non_zeros[\"TweetFavoritesCount\"]\n",
    "\n",
    "y_mean_baseline = np.mean(y)\n",
    "\n",
    "# Baseline's performance\n",
    "MAE_zeros_baseline = np.mean([np.abs(y_mean_baseline-y_val_zeros.iloc[i]) for i in range(len(y_val_zeros))])\n",
    "print(\"MAE of baseline for zeros:\", MAE_zeros_baseline)\n",
    "MAPE_non_zeros_baseline = np.mean([np.abs(y_mean_baseline-y_val_non_zeros.iloc[i])/float(y_val_non_zeros.iloc[i]) for i in range(len(y_val_non_zeros))])*100\n",
    "print(\"MAPE of baseline for non zeros:\", MAPE_non_zeros_baseline,\"%\")\n",
    "\n",
    "# XgBoost regressor's performance\n",
    "MAE_zeros = np.mean([np.abs(pred_zeros[i]-y_val_zeros.iloc[i]) for i in range(len(pred_zeros))])\n",
    "print(\"MAE of model for zeros:\", MAE_zeros)\n",
    "MAPE_non_zeros = np.mean([np.abs(pred_non_zeros[i]-y_val_non_zeros.iloc[i])/float(y_val_non_zeros.iloc[i]) for i in range(len(y_val_non_zeros))])*100\n",
    "print(\"MAPE of model for non zeros:\", MAPE_non_zeros,\"%\")"
   ]
  },
  {
   "cell_type": "markdown",
   "metadata": {},
   "source": [
    "The model has a much lower MAE compared to the baseline when trying to predict zero values (0.4 vs 4) and achieves a lower mean average percentage error as well when predicting non zero values (66% vs 248%)."
   ]
  },
  {
   "cell_type": "code",
   "execution_count": null,
   "metadata": {},
   "outputs": [],
   "source": []
  }
 ],
 "metadata": {
  "kernelspec": {
   "display_name": "Python 3",
   "language": "python",
   "name": "python3"
  },
  "language_info": {
   "codemirror_mode": {
    "name": "ipython",
    "version": 3
   },
   "file_extension": ".py",
   "mimetype": "text/x-python",
   "name": "python",
   "nbconvert_exporter": "python",
   "pygments_lexer": "ipython3",
   "version": "3.8.5"
  }
 },
 "nbformat": 4,
 "nbformat_minor": 2
}
